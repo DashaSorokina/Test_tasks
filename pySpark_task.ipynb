{
 "cells": [
  {
   "attachments": {},
   "cell_type": "markdown",
   "metadata": {},
   "source": [
    "### Test task\n",
    "1. В датафреймах (pyspark.sql.DataFrame) заданы продукты, категории и связь между ними. \n",
    "2. Одному продукту может соответствовать много категорий, в одной категории может быть много продуктов. \n",
    "3. Напишите метод с помощью PySpark, который вернет все продукты с их категориями (датафрейм с набором всех пар «Имя продукта – Имя категории»). \n",
    "4. В результирующем датафрейме должны также присутствовать продукты, у которых нет категорий."
   ]
  },
  {
   "cell_type": "code",
   "execution_count": 1,
   "metadata": {},
   "outputs": [],
   "source": [
    "from pyspark.sql import SparkSession\n",
    "import pandas as pd"
   ]
  },
  {
   "cell_type": "code",
   "execution_count": 3,
   "metadata": {},
   "outputs": [],
   "source": [
    "spark = SparkSession.builder.getOrCreate()"
   ]
  },
  {
   "attachments": {},
   "cell_type": "markdown",
   "metadata": {},
   "source": [
    "1. Таблица с продуктами:"
   ]
  },
  {
   "cell_type": "code",
   "execution_count": 4,
   "metadata": {},
   "outputs": [],
   "source": [
    "products = spark.createDataFrame([\n",
    "    (1, \"shampo\"),\n",
    "    (2, \"balsam\"),\n",
    "    (3, \"conditioner\"),\n",
    "    (4, \"oil\"),\n",
    "    (5, \"protection\"),\n",
    "], [\"product_id\", \"product_name\"])"
   ]
  },
  {
   "cell_type": "code",
   "execution_count": 5,
   "metadata": {},
   "outputs": [
    {
     "name": "stderr",
     "output_type": "stream",
     "text": [
      "                                                                                \r"
     ]
    },
    {
     "name": "stdout",
     "output_type": "stream",
     "text": [
      "+----------+------------+\n",
      "|product_id|product_name|\n",
      "+----------+------------+\n",
      "|         1|      shampo|\n",
      "|         2|      balsam|\n",
      "|         3| conditioner|\n",
      "|         4|         oil|\n",
      "|         5|  protection|\n",
      "+----------+------------+\n",
      "\n"
     ]
    }
   ],
   "source": [
    "products.show()"
   ]
  },
  {
   "attachments": {},
   "cell_type": "markdown",
   "metadata": {},
   "source": [
    "2. Таблица с категориями"
   ]
  },
  {
   "cell_type": "code",
   "execution_count": 6,
   "metadata": {},
   "outputs": [
    {
     "name": "stdout",
     "output_type": "stream",
     "text": [
      "+-----------+-------------+\n",
      "|category_id|category_name|\n",
      "+-----------+-------------+\n",
      "|          1|            A|\n",
      "|          2|            B|\n",
      "|          3|            C|\n",
      "|          4|            D|\n",
      "|          5|            E|\n",
      "|          6|            F|\n",
      "+-----------+-------------+\n",
      "\n"
     ]
    }
   ],
   "source": [
    "categories = spark.createDataFrame([\n",
    "    (1, \"A\"),\n",
    "    (2, \"B\"),\n",
    "    (3, \"C\"),\n",
    "    (4, \"D\"),\n",
    "    (5, \"E\"),\n",
    "    (6, \"F\")\n",
    "  \n",
    "], [\"category_id\", \"category_name\"])\n",
    "\n",
    "categories.show()"
   ]
  },
  {
   "attachments": {},
   "cell_type": "markdown",
   "metadata": {},
   "source": [
    "3. Таблица связей продукт-категория (many-to-many)"
   ]
  },
  {
   "cell_type": "code",
   "execution_count": 7,
   "metadata": {},
   "outputs": [
    {
     "name": "stdout",
     "output_type": "stream",
     "text": [
      "+----------+-----------+\n",
      "|product_id|category_id|\n",
      "+----------+-----------+\n",
      "|         1|          1|\n",
      "|         2|          2|\n",
      "|         2|          3|\n",
      "|         3|          1|\n",
      "|         4|          2|\n",
      "|         4|          6|\n",
      "+----------+-----------+\n",
      "\n"
     ]
    }
   ],
   "source": [
    "products_categories = spark.createDataFrame([\n",
    "    (1, 1),\n",
    "    (2, 2),\n",
    "    (2, 3),\n",
    "    (3, 1),\n",
    "    (4, 2),\n",
    "    (4, 6),\n",
    "    \n",
    "], [\"product_id\", \"category_id\"])\n",
    "\n",
    "products_categories.show()"
   ]
  },
  {
   "attachments": {},
   "cell_type": "markdown",
   "metadata": {},
   "source": [
    "Соединим информацию из таблицы продуктов с таблицей связей:"
   ]
  },
  {
   "cell_type": "code",
   "execution_count": 8,
   "metadata": {},
   "outputs": [],
   "source": [
    "product_category_outer = products.join(\n",
    "    products_categories,\n",
    "    products.product_id ==  products_categories.product_id,\n",
    "    \"left_outer\")"
   ]
  },
  {
   "cell_type": "code",
   "execution_count": 10,
   "metadata": {},
   "outputs": [
    {
     "name": "stderr",
     "output_type": "stream",
     "text": [
      "                                                                                \r"
     ]
    },
    {
     "name": "stdout",
     "output_type": "stream",
     "text": [
      "+----------+------------+----------+-----------+\n",
      "|product_id|product_name|product_id|category_id|\n",
      "+----------+------------+----------+-----------+\n",
      "|         1|      shampo|         1|          1|\n",
      "|         2|      balsam|         2|          3|\n",
      "|         2|      balsam|         2|          2|\n",
      "|         3| conditioner|         3|          1|\n",
      "|         4|         oil|         4|          6|\n",
      "|         4|         oil|         4|          2|\n",
      "|         5|  protection|      null|       null|\n",
      "+----------+------------+----------+-----------+\n",
      "\n"
     ]
    }
   ],
   "source": [
    "product_category_outer.show()"
   ]
  },
  {
   "attachments": {},
   "cell_type": "markdown",
   "metadata": {},
   "source": [
    "Соединим полученную таблицу с таблицей категорий:"
   ]
  },
  {
   "cell_type": "code",
   "execution_count": 11,
   "metadata": {},
   "outputs": [
    {
     "name": "stderr",
     "output_type": "stream",
     "text": [
      "                                                                                \r"
     ]
    },
    {
     "name": "stdout",
     "output_type": "stream",
     "text": [
      "+----------+------------+----------+-----------+-----------+-------------+\n",
      "|product_id|product_name|product_id|category_id|category_id|category_name|\n",
      "+----------+------------+----------+-----------+-----------+-------------+\n",
      "|         1|      shampo|         1|          1|          1|            A|\n",
      "|         2|      balsam|         2|          3|          3|            C|\n",
      "|         2|      balsam|         2|          2|          2|            B|\n",
      "|         3| conditioner|         3|          1|          1|            A|\n",
      "|         4|         oil|         4|          6|          6|            F|\n",
      "|         4|         oil|         4|          2|          2|            B|\n",
      "|         5|  protection|      null|       null|       null|         null|\n",
      "+----------+------------+----------+-----------+-----------+-------------+\n",
      "\n"
     ]
    }
   ],
   "source": [
    "result = product_category_outer.join(\n",
    "    categories,\n",
    "    product_category_outer.category_id == categories.category_id,\n",
    "    \"left_outer\"\n",
    ")\n",
    "\n",
    "result.show()"
   ]
  },
  {
   "cell_type": "code",
   "execution_count": 12,
   "metadata": {},
   "outputs": [
    {
     "name": "stderr",
     "output_type": "stream",
     "text": [
      "                                                                                \r"
     ]
    },
    {
     "name": "stdout",
     "output_type": "stream",
     "text": [
      "+------------+-------------+\n",
      "|product_name|category_name|\n",
      "+------------+-------------+\n",
      "|      shampo|            A|\n",
      "|      balsam|            C|\n",
      "|      balsam|            B|\n",
      "| conditioner|            A|\n",
      "|         oil|            F|\n",
      "|         oil|            B|\n",
      "|  protection|         null|\n",
      "+------------+-------------+\n",
      "\n"
     ]
    }
   ],
   "source": [
    "\n",
    "result_df = result.select(\"product_name\", 'category_name')\n",
    "result_df.show()"
   ]
  },
  {
   "attachments": {},
   "cell_type": "markdown",
   "metadata": {},
   "source": [
    "У продукта \"protection\" изначально не было связи с категорией"
   ]
  },
  {
   "attachments": {},
   "cell_type": "markdown",
   "metadata": {},
   "source": []
  }
 ],
 "metadata": {
  "kernelspec": {
   "display_name": "Python 3",
   "language": "python",
   "name": "python3"
  },
  "language_info": {
   "codemirror_mode": {
    "name": "ipython",
    "version": 3
   },
   "file_extension": ".py",
   "mimetype": "text/x-python",
   "name": "python",
   "nbconvert_exporter": "python",
   "pygments_lexer": "ipython3",
   "version": "3.10.2"
  }
 },
 "nbformat": 4,
 "nbformat_minor": 4
}
